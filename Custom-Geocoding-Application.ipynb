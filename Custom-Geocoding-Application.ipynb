{
 "cells": [
  {
   "cell_type": "markdown",
   "id": "4d1ee76a",
   "metadata": {},
   "source": [
    "# Creating A Custom Geocoding Application \n",
    "\n",
    "This notebook provides source code and example usage when implementing a custom Geocoder to provide locations of addresses. This Notebook then covers the _Episode 3_ of the session which is being covered on [African Surveyors Connect YouTube Channel](https://youtube.com/africansurveyorsconnect/)\n",
    "\n",
    "\n",
    "### Series Brief \n",
    "\n",
    "- [Episode One](https://www.youtube.com/watch?v=kkrl7MdPqcg&t=1187s) covered the basics of building a Locator tool using ArcGIS Desktop. \n",
    "\n",
    "Health facility data for Zimbabwe was used for this demonstration. \n",
    "\n",
    "- [Episode Two](https://www.youtube.com/watch?v=FmpmhLBC_gc) demonstrated the process of deploying our Locator tool as a Geocoding Service onto an ArcGIS Server. \n",
    "\n",
    "- [Episode Three]() which this notebook provides source-code for, will demonstrate a usage case of our geocoder while it provides coordinates and additional information to the user. \n",
    "\n",
    "**Please Note** _Some portions of this tutorial have been hidden from the audience to protect certain properties of the resources utilized to create this tutorial. Where secrets have been used, I provide explanation as to how you can overcome the obstacle_\n",
    "\n",
    "\n",
    "## Importing & Keeping Secrets. \n",
    "\n",
    "- let's import the `GIS` and `geocoding` functions which we essentially need for this process to occur. \n",
    "- then we are going to hide some secrets which unauthorised users might tend to abuse. \n",
    "- finally we authenticate ourselves (give ourselves permission to use ArcGIS Online). \n"
   ]
  },
  {
   "cell_type": "code",
   "execution_count": 1,
   "id": "ec04b97f",
   "metadata": {},
   "outputs": [],
   "source": [
    "from arcgis.gis import GIS\n",
    "from arcgis.geocoding import Geocoder, get_geocoders, geocode\n",
    "\n",
    "# Some secrets you are not supposed to see\n",
    "from dotenv import load_dotenv\n",
    "load_dotenv()\n",
    "import os\n",
    "\n",
    "# Auth\n",
    "gis = GIS(username=os.environ.get('ARCGIS_USERNAME'), password=os.environ.get('ARCGIS_PASSWORD'))"
   ]
  },
  {
   "cell_type": "markdown",
   "id": "02d4342d",
   "metadata": {},
   "source": [
    "Call the `get_geocoders` function to visualize what geocoders we currently have within our ArcGIS Online. \n",
    "\n",
    "I currently have 2, a custom geocoder and the default *ESRI World GeocodeServer*. \n",
    "\n",
    "**Remove the `[0]` to display everything you have**. "
   ]
  },
  {
   "cell_type": "code",
   "execution_count": 2,
   "id": "13306876",
   "metadata": {},
   "outputs": [
    {
     "data": {
      "text/plain": [
       "<Geocoder url:\"https://geocode.arcgis.com/arcgis/rest/services/World/GeocodeServer\">"
      ]
     },
     "execution_count": 2,
     "metadata": {},
     "output_type": "execute_result"
    }
   ],
   "source": [
    "get_geocoders(gis)[0] #<- I choose to show only the first result, the other one is confidential. Remove [0] on your end"
   ]
  },
  {
   "cell_type": "markdown",
   "id": "1775359f",
   "metadata": {},
   "source": [
    "Let the portal know, we want to use our custom geocoding URL for this exercise. \n",
    "\n",
    "*Refer to [Episode Two](https://www.youtube.com/watch?v=FmpmhLBC_gc) and grab the **REST URL** of your Geocoding Service within your ArcGIS Server* \n",
    "\n",
    "The result should be your REST URL after running the cell. "
   ]
  },
  {
   "cell_type": "code",
   "execution_count": null,
   "id": "98f8885d",
   "metadata": {},
   "outputs": [],
   "source": [
    "geocoder_url = os.environ.get('HEALTH_GEOCODER_URL')\n",
    "health_geocoder = Geocoder(geocoder_url, gis)\n",
    "health_geocoder"
   ]
  },
  {
   "cell_type": "markdown",
   "id": "4c0792ce",
   "metadata": {},
   "source": [
    "Use the Geocoder to get information about an address. Return all the parameters at this point"
   ]
  },
  {
   "cell_type": "code",
   "execution_count": 4,
   "id": "088eec70",
   "metadata": {},
   "outputs": [
    {
     "data": {
      "text/plain": [
       "[{'address': 'Harare',\n",
       "  'location': {'x': 31.0128, 'y': -17.8609},\n",
       "  'score': 100,\n",
       "  'attributes': {'Status': 'T',\n",
       "   'Score': 100,\n",
       "   'Match_addr': 'Harare',\n",
       "   'LongLabel': 'Harare, ZWE',\n",
       "   'ShortLabel': 'Harare',\n",
       "   'Addr_type': 'POI',\n",
       "   'Type': 'Hospital',\n",
       "   'PlaceName': 'Harare',\n",
       "   'Place_addr': 'Harare',\n",
       "   'Phone': '',\n",
       "   'URL': '',\n",
       "   'Rank': 20,\n",
       "   'AddBldg': '',\n",
       "   'AddNum': '',\n",
       "   'AddNumFrom': '',\n",
       "   'AddNumTo': '',\n",
       "   'AddRange': '',\n",
       "   'Side': '',\n",
       "   'StPreDir': '',\n",
       "   'StPreType': '',\n",
       "   'StName': '',\n",
       "   'StType': '',\n",
       "   'StDir': '',\n",
       "   'BldgType': '',\n",
       "   'BldgName': '',\n",
       "   'LevelType': '',\n",
       "   'LevelName': '',\n",
       "   'UnitType': '',\n",
       "   'UnitName': '',\n",
       "   'SubAddr': '',\n",
       "   'StAddr': '',\n",
       "   'Block': '',\n",
       "   'Sector': '',\n",
       "   'Nbrhd': '',\n",
       "   'District': 'Harare',\n",
       "   'City': '',\n",
       "   'MetroArea': '',\n",
       "   'Subregion': '',\n",
       "   'Region': '',\n",
       "   'RegionAbbr': '',\n",
       "   'Territory': '',\n",
       "   'Zone': '',\n",
       "   'Postal': '',\n",
       "   'PostalExt': '',\n",
       "   'Country': 'ZWE',\n",
       "   'LangCode': 'ENG',\n",
       "   'Distance': 0,\n",
       "   'X': 31.0128,\n",
       "   'Y': -17.8609,\n",
       "   'DisplayX': 31.0128,\n",
       "   'DisplayY': -17.8609,\n",
       "   'Xmin': 31.011799999999997,\n",
       "   'Xmax': 31.0138,\n",
       "   'Ymin': -17.861900000000002,\n",
       "   'Ymax': -17.8599,\n",
       "   'ExInfo': ''},\n",
       "  'extent': {'xmin': 31.011799999999997,\n",
       "   'ymin': -17.861900000000002,\n",
       "   'xmax': 31.0138,\n",
       "   'ymax': -17.8599}},\n",
       " {'address': 'Beatrice Infectious',\n",
       "  'location': {'x': 31.0282, 'y': -17.8601},\n",
       "  'score': 100,\n",
       "  'attributes': {'Status': 'T',\n",
       "   'Score': 100,\n",
       "   'Match_addr': 'Beatrice Infectious',\n",
       "   'LongLabel': 'Beatrice Infectious, Harare, ZWE',\n",
       "   'ShortLabel': 'Beatrice Infectious',\n",
       "   'Addr_type': 'POI',\n",
       "   'Type': 'Hospital',\n",
       "   'PlaceName': 'Beatrice Infectious',\n",
       "   'Place_addr': 'Harare',\n",
       "   'Phone': '',\n",
       "   'URL': '',\n",
       "   'Rank': 20,\n",
       "   'AddBldg': '',\n",
       "   'AddNum': '',\n",
       "   'AddNumFrom': '',\n",
       "   'AddNumTo': '',\n",
       "   'AddRange': '',\n",
       "   'Side': '',\n",
       "   'StPreDir': '',\n",
       "   'StPreType': '',\n",
       "   'StName': '',\n",
       "   'StType': '',\n",
       "   'StDir': '',\n",
       "   'BldgType': '',\n",
       "   'BldgName': '',\n",
       "   'LevelType': '',\n",
       "   'LevelName': '',\n",
       "   'UnitType': '',\n",
       "   'UnitName': '',\n",
       "   'SubAddr': '',\n",
       "   'StAddr': '',\n",
       "   'Block': '',\n",
       "   'Sector': '',\n",
       "   'Nbrhd': '',\n",
       "   'District': 'Harare',\n",
       "   'City': '',\n",
       "   'MetroArea': '',\n",
       "   'Subregion': '',\n",
       "   'Region': '',\n",
       "   'RegionAbbr': '',\n",
       "   'Territory': '',\n",
       "   'Zone': '',\n",
       "   'Postal': '',\n",
       "   'PostalExt': '',\n",
       "   'Country': 'ZWE',\n",
       "   'LangCode': 'ENG',\n",
       "   'Distance': 0,\n",
       "   'X': 31.0282,\n",
       "   'Y': -17.8601,\n",
       "   'DisplayX': 31.0282,\n",
       "   'DisplayY': -17.8601,\n",
       "   'Xmin': 31.027199999999997,\n",
       "   'Xmax': 31.0292,\n",
       "   'Ymin': -17.8611,\n",
       "   'Ymax': -17.859099999999998,\n",
       "   'ExInfo': ''},\n",
       "  'extent': {'xmin': 31.027199999999997,\n",
       "   'ymin': -17.8611,\n",
       "   'xmax': 31.0292,\n",
       "   'ymax': -17.859099999999998}},\n",
       " {'address': 'Parirenyatwa',\n",
       "  'location': {'x': 30.0433, 'y': -17.8122},\n",
       "  'score': 100,\n",
       "  'attributes': {'Status': 'T',\n",
       "   'Score': 100,\n",
       "   'Match_addr': 'Parirenyatwa',\n",
       "   'LongLabel': 'Parirenyatwa, Harare, ZWE',\n",
       "   'ShortLabel': 'Parirenyatwa',\n",
       "   'Addr_type': 'POI',\n",
       "   'Type': 'Hospital',\n",
       "   'PlaceName': 'Parirenyatwa',\n",
       "   'Place_addr': 'Harare',\n",
       "   'Phone': '',\n",
       "   'URL': '',\n",
       "   'Rank': 20,\n",
       "   'AddBldg': '',\n",
       "   'AddNum': '',\n",
       "   'AddNumFrom': '',\n",
       "   'AddNumTo': '',\n",
       "   'AddRange': '',\n",
       "   'Side': '',\n",
       "   'StPreDir': '',\n",
       "   'StPreType': '',\n",
       "   'StName': '',\n",
       "   'StType': '',\n",
       "   'StDir': '',\n",
       "   'BldgType': '',\n",
       "   'BldgName': '',\n",
       "   'LevelType': '',\n",
       "   'LevelName': '',\n",
       "   'UnitType': '',\n",
       "   'UnitName': '',\n",
       "   'SubAddr': '',\n",
       "   'StAddr': '',\n",
       "   'Block': '',\n",
       "   'Sector': '',\n",
       "   'Nbrhd': '',\n",
       "   'District': 'Harare',\n",
       "   'City': '',\n",
       "   'MetroArea': '',\n",
       "   'Subregion': '',\n",
       "   'Region': '',\n",
       "   'RegionAbbr': '',\n",
       "   'Territory': '',\n",
       "   'Zone': '',\n",
       "   'Postal': '',\n",
       "   'PostalExt': '',\n",
       "   'Country': 'ZWE',\n",
       "   'LangCode': 'ENG',\n",
       "   'Distance': 0,\n",
       "   'X': 30.0433,\n",
       "   'Y': -17.8122,\n",
       "   'DisplayX': 30.0433,\n",
       "   'DisplayY': -17.8122,\n",
       "   'Xmin': 30.042299999999997,\n",
       "   'Xmax': 30.0443,\n",
       "   'Ymin': -17.813200000000002,\n",
       "   'Ymax': -17.8112,\n",
       "   'ExInfo': ''},\n",
       "  'extent': {'xmin': 30.042299999999997,\n",
       "   'ymin': -17.813200000000002,\n",
       "   'xmax': 30.0443,\n",
       "   'ymax': -17.8112}}]"
      ]
     },
     "execution_count": 4,
     "metadata": {},
     "output_type": "execute_result"
    }
   ],
   "source": [
    "results = geocode('Harare Hospital', geocoder=health_geocoder)\n",
    "results"
   ]
  },
  {
   "cell_type": "markdown",
   "id": "8ba0b9eb",
   "metadata": {},
   "source": [
    "Just display the **Coordinates** only. "
   ]
  },
  {
   "cell_type": "code",
   "execution_count": 5,
   "id": "97bea34d",
   "metadata": {},
   "outputs": [
    {
     "data": {
      "text/plain": [
       "{'x': 31.0128, 'y': -17.8609}"
      ]
     },
     "execution_count": 5,
     "metadata": {},
     "output_type": "execute_result"
    }
   ],
   "source": [
    "results[0]['location']"
   ]
  },
  {
   "cell_type": "markdown",
   "id": "15118e53",
   "metadata": {},
   "source": [
    "#### What is the default Spatial Reference for our Geocoder? \n",
    "\n",
    "return the `wkid` for the Spatial Reference"
   ]
  },
  {
   "cell_type": "code",
   "execution_count": 6,
   "id": "b2a36c50",
   "metadata": {},
   "outputs": [
    {
     "data": {
      "text/plain": [
       "{\n",
       "  \"wkid\": 4326,\n",
       "  \"latestWkid\": 4326\n",
       "}"
      ]
     },
     "execution_count": 6,
     "metadata": {},
     "output_type": "execute_result"
    }
   ],
   "source": [
    "health_geocoder.properties.spatialReference"
   ]
  },
  {
   "cell_type": "markdown",
   "id": "28af00e3",
   "metadata": {},
   "source": [
    "Try to get the *Coordinates* in another Spatial Reference perhaps? "
   ]
  },
  {
   "cell_type": "code",
   "execution_count": 7,
   "id": "cc89cdaa",
   "metadata": {},
   "outputs": [
    {
     "data": {
      "text/plain": [
       "{'x': 289428.2753462425, 'y': 8024383.626386837}"
      ]
     },
     "execution_count": 7,
     "metadata": {},
     "output_type": "execute_result"
    }
   ],
   "source": [
    "result_change_sr = geocode('Harare Hospital', geocoder=health_geocoder, out_sr=20936)\n",
    "result_change_sr[0]['location']"
   ]
  },
  {
   "cell_type": "markdown",
   "id": "d5a1c05e",
   "metadata": {},
   "source": [
    "#### What are the properties of our Locator? \n",
    "\n",
    "Return the properties of our Locator service"
   ]
  },
  {
   "cell_type": "code",
   "execution_count": 8,
   "id": "cd75f787",
   "metadata": {},
   "outputs": [
    {
     "data": {
      "text/plain": [
       "{\n",
       "  \"MinimumCandidateScore\": 70,\n",
       "  \"UICLSID\": \"{AE5A3A0E-F756-11D2-9F4F-00C04F8ED1C4}\",\n",
       "  \"MinimumMatchScore\": 75,\n",
       "  \"SuggestedBatchSize\": 1000,\n",
       "  \"MaxBatchSize\": 1000,\n",
       "  \"LoadBalancerTimeOut\": 60,\n",
       "  \"isAGOWorldLocator\": false,\n",
       "  \"LocatorVersion\": \"11.0\"\n",
       "}"
      ]
     },
     "execution_count": 8,
     "metadata": {},
     "output_type": "execute_result"
    }
   ],
   "source": [
    "health_geocoder.properties.locatorProperties"
   ]
  },
  {
   "cell_type": "markdown",
   "id": "2e05edde",
   "metadata": {},
   "source": [
    "### Plot Result on a Map? \n",
    "\n",
    "Yes, we can also use the `JSON` response we get from the **Locator** to plot this on a map. \n",
    "\n",
    "[Subscribe](https://youtube.com/africansurveyorsconnect?sub_confirmation=1) to YouTube channel and stay posted for more. "
   ]
  },
  {
   "cell_type": "code",
   "execution_count": 9,
   "id": "53ffb43a",
   "metadata": {},
   "outputs": [],
   "source": [
    "from IPython.display import YouTubeVideo"
   ]
  },
  {
   "cell_type": "markdown",
   "id": "1040f6cf",
   "metadata": {},
   "source": [
    "Consider watching these videos too 😉👍"
   ]
  },
  {
   "cell_type": "code",
   "execution_count": 10,
   "id": "24209e98",
   "metadata": {},
   "outputs": [
    {
     "data": {
      "image/jpeg": "[encoded data removed]",
      "text/html": [
       "\n",
       "        <iframe\n",
       "            width=\"800\"\n",
       "            height=\"300\"\n",
       "            src=\"https://www.youtube.com/embed/kkrl7MdPqcg\"\n",
       "            frameborder=\"0\"\n",
       "            allowfullscreen\n",
       "        ></iframe>\n",
       "        "
      ],
      "text/plain": [
       "<IPython.lib.display.YouTubeVideo at 0x2819d9628e0>"
      ]
     },
     "execution_count": 10,
     "metadata": {},
     "output_type": "execute_result"
    }
   ],
   "source": [
    "YouTubeVideo('kkrl7MdPqcg', width=800, height=300)"
   ]
  },
  {
   "cell_type": "code",
   "execution_count": 11,
   "id": "9b031e9b",
   "metadata": {},
   "outputs": [
    {
     "data": {
      "image/jpeg": "[encoded data removed]",
      "text/html": [
       "\n",
       "        <iframe\n",
       "            width=\"800\"\n",
       "            height=\"300\"\n",
       "            src=\"https://www.youtube.com/embed/FmpmhLBC_gc\"\n",
       "            frameborder=\"0\"\n",
       "            allowfullscreen\n",
       "        ></iframe>\n",
       "        "
      ],
      "text/plain": [
       "<IPython.lib.display.YouTubeVideo at 0x2819d962880>"
      ]
     },
     "execution_count": 11,
     "metadata": {},
     "output_type": "execute_result"
    }
   ],
   "source": [
    "\n",
    "YouTubeVideo('FmpmhLBC_gc', width=800, height=300)"
   ]
  },
  {
   "cell_type": "code",
   "execution_count": null,
   "id": "da04014b",
   "metadata": {},
   "outputs": [],
   "source": []
  }
 ],
 "metadata": {
  "kernelspec": {
   "display_name": "Python 3",
   "language": "python",
   "name": "python3"
  },
  "language_info": {
   "codemirror_mode": {
    "name": "ipython",
    "version": 3
   },
   "file_extension": ".py",
   "mimetype": "text/x-python",
   "name": "python",
   "nbconvert_exporter": "python",
   "pygments_lexer": "ipython3",
   "version": "3.8.8"
  }
 },
 "nbformat": 4,
 "nbformat_minor": 5
}
